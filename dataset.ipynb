{
 "cells": [
  {
   "cell_type": "code",
   "execution_count": null,
   "metadata": {},
   "outputs": [],
   "source": [
    "import pandas as pd\n",
    "import numpy as np\n",
    "import matplotlib.pyplot as plt\n",
    "import cv2\n",
    "from PIL import Image\n",
    "from tqdm import tqdm"
   ]
  },
  {
   "cell_type": "code",
   "execution_count": null,
   "metadata": {},
   "outputs": [],
   "source": [
    "from datasets import load_dataset\n",
    "\n",
    "ds = load_dataset(\"mattmdjaga/human_parsing_dataset\")"
   ]
  },
  {
   "cell_type": "code",
   "execution_count": null,
   "metadata": {},
   "outputs": [],
   "source": [
    "ds"
   ]
  },
  {
   "cell_type": "code",
   "execution_count": null,
   "metadata": {},
   "outputs": [],
   "source": [
    "# ds['train']['image'][0]\n",
    "mask = ds['train']['mask'][0]"
   ]
  },
  {
   "cell_type": "code",
   "execution_count": null,
   "metadata": {},
   "outputs": [],
   "source": [
    "mask_arr = np.array(mask.resize((784, 784), Image.NEAREST))"
   ]
  },
  {
   "cell_type": "code",
   "execution_count": null,
   "metadata": {},
   "outputs": [],
   "source": [
    "mask_arr[~np.isin(mask_arr, np.array([0,4,5,6,7]))] = 0\n",
    "# mask[~np.isin(mask, np.array([0,4,5,6,7]))] = 0"
   ]
  },
  {
   "cell_type": "code",
   "execution_count": null,
   "metadata": {},
   "outputs": [],
   "source": [
    "np.unique(mask_arr)"
   ]
  },
  {
   "cell_type": "code",
   "execution_count": null,
   "metadata": {},
   "outputs": [],
   "source": [
    "plt.imshow(mask_arr)"
   ]
  },
  {
   "cell_type": "code",
   "execution_count": null,
   "metadata": {},
   "outputs": [],
   "source": [
    "class_mapping = {\n",
    "    0: 0,\n",
    "    4: 1,\n",
    "    5: 2,\n",
    "    6: 2,\n",
    "    7: 3,\n",
    "}\n",
    "ignore_classes = {1, 2, 3, 8, 9, 10, 11, 12, 13, 14, 15, 16, 17}"
   ]
  },
  {
   "cell_type": "markdown",
   "metadata": {},
   "source": [
    "# Encode"
   ]
  },
  {
   "cell_type": "code",
   "execution_count": null,
   "metadata": {},
   "outputs": [],
   "source": [
    "def rle_encoding(mask: np.ndarray) -> str:\n",
    "    \"\"\"\n",
    "    Converts a mask into run-length encoding (RLE) format using vectorized operations.\n",
    "\n",
    "    Args:\n",
    "        mask (`np.ndarray`): The mask where each pixel value represents the class ID.\n",
    "\n",
    "    Returns:\n",
    "        `str`: The RLE string.\n",
    "    \"\"\"\n",
    "    pixels = mask.T.flatten()  # Transpose to switch to column-major order\n",
    "    flat_pixels = np.r_[-1, pixels, -1]  # Add sentinel values for easier run detection\n",
    "    runs = np.diff(np.where(flat_pixels != np.roll(flat_pixels, 1))[0])\n",
    "    start_positions = np.where(flat_pixels[1:] != flat_pixels[:-1])[0] + 1\n",
    "\n",
    "    run_lengths = runs[1::2]\n",
    "    starts = start_positions[1::2] + 1\n",
    "\n",
    "    encoded_rle = ' '.join(f\"{start} {length}\" for start, length in zip(starts, run_lengths))\n",
    "\n",
    "    return encoded_rle\n",
    "\n",
    "\n",
    "def create_train_csv(dataset, output_csv: str, class_mapping: dict, ignore_classes: set):\n",
    "    \"\"\"\n",
    "    Creates a train.csv file with the columns ImageId, EncodedPixels, Height, Width, and ClassId.\n",
    "\n",
    "    Args:\n",
    "        dataset (`DatasetDict`): The Hugging Face DatasetDict object containing the dataset.\n",
    "        output_csv (`str`): The path to the output CSV file.\n",
    "        class_mapping (`dict`): A dictionary mapping original class IDs to new class IDs.\n",
    "        ignore_classes (`set`): A set of class IDs to be ignored.\n",
    "    \"\"\"\n",
    "    records = []\n",
    "\n",
    "    for index, item in tqdm(enumerate(dataset['train']), total=len(dataset['train'])):\n",
    "        image = np.array(item['mask'].resize((784, 784), Image.NEAREST))\n",
    "        height, width = image.shape\n",
    "        image_id = f\"image_{index}.png\"  # Generate a unique name for each image\n",
    "\n",
    "        # Initialize masks for each new class ID\n",
    "        masks = {new_class_id: np.zeros((height, width), dtype=np.uint8) for new_class_id in class_mapping.values()}\n",
    "        \n",
    "        for original_class_id in range(18):\n",
    "            if original_class_id in ignore_classes:\n",
    "                continue\n",
    "\n",
    "            new_class_id = class_mapping.get(original_class_id, original_class_id)\n",
    "            if new_class_id not in masks:\n",
    "                continue\n",
    "\n",
    "            class_mask = (image == original_class_id).astype(np.uint8)\n",
    "            masks[new_class_id] += class_mask\n",
    "\n",
    "        for new_class_id, combined_mask in masks.items():\n",
    "            if combined_mask.sum() > 0:\n",
    "                encoded_pixels = rle_encoding(combined_mask)\n",
    "                records.append({\n",
    "                    \"ImageId\": image_id,\n",
    "                    \"EncodedPixels\": encoded_pixels,\n",
    "                    \"Height\": height,\n",
    "                    \"Width\": width,\n",
    "                    \"ClassId\": new_class_id\n",
    "                })\n",
    "        if index > 1:\n",
    "            break\n",
    "        \n",
    "\n",
    "    df = pd.DataFrame(records, columns=[\"ImageId\", \"EncodedPixels\", \"Height\", \"Width\", \"ClassId\"])\n",
    "    df.to_csv(output_csv, index=False)\n",
    "    return df"
   ]
  },
  {
   "cell_type": "code",
   "execution_count": null,
   "metadata": {},
   "outputs": [],
   "source": [
    "df_atr = create_train_csv(ds, \"train.csv\", class_mapping, ignore_classes)"
   ]
  },
  {
   "cell_type": "markdown",
   "metadata": {},
   "source": [
    "# Decode"
   ]
  },
  {
   "cell_type": "code",
   "execution_count": null,
   "metadata": {},
   "outputs": [],
   "source": [
    "import pandas as pd"
   ]
  },
  {
   "cell_type": "code",
   "execution_count": null,
   "metadata": {},
   "outputs": [],
   "source": [
    "# df = pd.read_csv(\"/Users/saagarparikh/Downloads/imaterialist/train.csv\")\n",
    "df1 = pd.read_csv(\"dataset_atr/train.csv\")"
   ]
  },
  {
   "cell_type": "code",
   "execution_count": null,
   "metadata": {},
   "outputs": [],
   "source": [
    "df1.head()"
   ]
  },
  {
   "cell_type": "code",
   "execution_count": null,
   "metadata": {},
   "outputs": [],
   "source": [
    "import pandas as pd\n",
    "import numpy as np\n",
    "from PIL import Image\n",
    "\n",
    "def decode_rle(rle, shape):\n",
    "    s = list(map(int, rle.split()))\n",
    "    starts, lengths = s[0::2], s[1::2]\n",
    "    img = np.zeros(shape[0] * shape[1], dtype=np.uint8)\n",
    "    for start, length in zip(starts, lengths):\n",
    "        start -= 1  # Convert from 1-based to 0-based indexing\n",
    "        img[start:start + length] = 1\n",
    "    return img.reshape((shape[1], shape[0])).T\n",
    "\n",
    "def create_mask_images(df, output_dir):\n",
    "    for image_id in df['ImageId'].unique():\n",
    "        image_df = df[df['ImageId'] == image_id]\n",
    "        height, width = image_df.iloc[0][['Height', 'Width']].astype(int)\n",
    "        mask = np.zeros((height, width), dtype=np.uint8)\n",
    "        for _, row in image_df.iterrows():\n",
    "            class_id = row['ClassId']\n",
    "            rle = row['EncodedPixels']\n",
    "            class_mask = decode_rle(rle, (height, width))\n",
    "            mask[class_mask == 1] = class_id\n",
    "        Image.fromarray(mask).save(f\"{output_dir}/{image_id}\")\n",
    "        "
   ]
  },
  {
   "cell_type": "code",
   "execution_count": null,
   "metadata": {},
   "outputs": [],
   "source": [
    "import os\n",
    "os.makedirs(\"out_masks_atr2\", exist_ok=True)\n",
    "create_mask_images(df1, \"out_masks_atr2\")"
   ]
  },
  {
   "cell_type": "code",
   "execution_count": null,
   "metadata": {},
   "outputs": [],
   "source": [
    "temp = np.array(Image.open(\"out_masks_atr2/image_0.png\"))"
   ]
  },
  {
   "cell_type": "code",
   "execution_count": null,
   "metadata": {},
   "outputs": [],
   "source": [
    "import matplotlib.pyplot as plt\n",
    "\n",
    "np.unique(temp), plt.imshow(temp); plt.colorbar()"
   ]
  },
  {
   "cell_type": "markdown",
   "metadata": {},
   "source": [
    "# Save images"
   ]
  },
  {
   "cell_type": "code",
   "execution_count": null,
   "metadata": {},
   "outputs": [],
   "source": [
    "import os\n",
    "import numpy as np\n",
    "from PIL import Image\n",
    "\n",
    "def save_images_and_masks(dataset, image_dir: str = \"images\", mask_dir: str = \"masks\"):\n",
    "    os.makedirs(image_dir, exist_ok=True)\n",
    "    # os.makedirs(mask_dir, exist_ok=True)\n",
    "    \n",
    "    for index, item in tqdm(enumerate(dataset['train']), total=len(dataset)):\n",
    "        image = item['image']\n",
    "        # mask = item['mask']\n",
    "\n",
    "        image_path = os.path.join(image_dir, f\"image_{index}.png\")\n",
    "        # mask_path = os.path.join(mask_dir, f\"mask_{index}.png\")\n",
    "\n",
    "        image.resize((784, 784)).save(image_path)\n",
    "        # mask.save(mask_path)\n",
    "\n"
   ]
  },
  {
   "cell_type": "code",
   "execution_count": null,
   "metadata": {},
   "outputs": [],
   "source": [
    "save_images_and_masks(ds, \"train\")"
   ]
  },
  {
   "cell_type": "code",
   "execution_count": null,
   "metadata": {},
   "outputs": [],
   "source": []
  }
 ],
 "metadata": {
  "kernelspec": {
   "display_name": "dataset",
   "language": "python",
   "name": "python3"
  },
  "language_info": {
   "codemirror_mode": {
    "name": "ipython",
    "version": 3
   },
   "file_extension": ".py",
   "mimetype": "text/x-python",
   "name": "python",
   "nbconvert_exporter": "python",
   "pygments_lexer": "ipython3",
   "version": "3.10.14"
  }
 },
 "nbformat": 4,
 "nbformat_minor": 2
}
